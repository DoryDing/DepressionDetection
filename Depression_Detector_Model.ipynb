{
 "cells": [
  {
   "cell_type": "code",
   "execution_count": 5,
   "metadata": {
    "collapsed": true,
    "ExecuteTime": {
     "start_time": "2023-07-21T15:27:27.843122Z",
     "end_time": "2023-07-21T15:27:29.489306Z"
    }
   },
   "outputs": [
    {
     "name": "stdout",
     "output_type": "stream",
     "text": [
      "Requirement already satisfied: numpy in /Users/doryding/myvenv/lib/python3.8/site-packages (1.22.2)\r\n",
      "Requirement already satisfied: pandas in /Users/doryding/myvenv/lib/python3.8/site-packages (2.0.3)\r\n",
      "Requirement already satisfied: transformers in /Users/doryding/myvenv/lib/python3.8/site-packages (4.31.0)\r\n",
      "Requirement already satisfied: torch in /Users/doryding/myvenv/lib/python3.8/site-packages (2.0.1)\r\n",
      "Requirement already satisfied: tzdata>=2022.1 in /Users/doryding/myvenv/lib/python3.8/site-packages (from pandas) (2023.3)\r\n",
      "Requirement already satisfied: python-dateutil>=2.8.2 in /Users/doryding/myvenv/lib/python3.8/site-packages (from pandas) (2.8.2)\r\n",
      "Requirement already satisfied: pytz>=2020.1 in /Users/doryding/myvenv/lib/python3.8/site-packages (from pandas) (2023.3)\r\n",
      "Requirement already satisfied: safetensors>=0.3.1 in /Users/doryding/myvenv/lib/python3.8/site-packages (from transformers) (0.3.1)\r\n",
      "Requirement already satisfied: filelock in /Users/doryding/myvenv/lib/python3.8/site-packages (from transformers) (3.12.2)\r\n",
      "Requirement already satisfied: regex!=2019.12.17 in /Users/doryding/myvenv/lib/python3.8/site-packages (from transformers) (2023.6.3)\r\n",
      "Requirement already satisfied: tokenizers!=0.11.3,<0.14,>=0.11.1 in /Users/doryding/myvenv/lib/python3.8/site-packages (from transformers) (0.13.3)\r\n",
      "Requirement already satisfied: huggingface-hub<1.0,>=0.14.1 in /Users/doryding/myvenv/lib/python3.8/site-packages (from transformers) (0.16.4)\r\n",
      "Requirement already satisfied: pyyaml>=5.1 in /Users/doryding/myvenv/lib/python3.8/site-packages (from transformers) (6.0.1)\r\n",
      "Requirement already satisfied: packaging>=20.0 in /Users/doryding/myvenv/lib/python3.8/site-packages (from transformers) (21.3)\r\n",
      "Requirement already satisfied: tqdm>=4.27 in /Users/doryding/myvenv/lib/python3.8/site-packages (from transformers) (4.51.0)\r\n",
      "Requirement already satisfied: requests in /Users/doryding/myvenv/lib/python3.8/site-packages (from transformers) (2.27.1)\r\n",
      "Requirement already satisfied: networkx in /Users/doryding/myvenv/lib/python3.8/site-packages (from torch) (3.1)\r\n",
      "Requirement already satisfied: jinja2 in /Users/doryding/myvenv/lib/python3.8/site-packages (from torch) (3.1.2)\r\n",
      "Requirement already satisfied: sympy in /Users/doryding/myvenv/lib/python3.8/site-packages (from torch) (1.12)\r\n",
      "Requirement already satisfied: typing-extensions in /Users/doryding/myvenv/lib/python3.8/site-packages (from torch) (4.7.1)\r\n",
      "Requirement already satisfied: fsspec in /Users/doryding/myvenv/lib/python3.8/site-packages (from huggingface-hub<1.0,>=0.14.1->transformers) (2023.6.0)\r\n",
      "Requirement already satisfied: pyparsing!=3.0.5,>=2.0.2 in /Users/doryding/myvenv/lib/python3.8/site-packages (from packaging>=20.0->transformers) (3.0.7)\r\n",
      "Requirement already satisfied: six>=1.5 in /Users/doryding/myvenv/lib/python3.8/site-packages (from python-dateutil>=2.8.2->pandas) (1.16.0)\r\n",
      "Requirement already satisfied: MarkupSafe>=2.0 in /Users/doryding/myvenv/lib/python3.8/site-packages (from jinja2->torch) (2.1.1)\r\n",
      "Requirement already satisfied: charset-normalizer~=2.0.0 in /Users/doryding/myvenv/lib/python3.8/site-packages (from requests->transformers) (2.0.12)\r\n",
      "Requirement already satisfied: idna<4,>=2.5 in /Users/doryding/myvenv/lib/python3.8/site-packages (from requests->transformers) (3.3)\r\n",
      "Requirement already satisfied: urllib3<1.27,>=1.21.1 in /Users/doryding/myvenv/lib/python3.8/site-packages (from requests->transformers) (1.26.9)\r\n",
      "Requirement already satisfied: certifi>=2017.4.17 in /Users/doryding/myvenv/lib/python3.8/site-packages (from requests->transformers) (2021.10.8)\r\n",
      "Requirement already satisfied: mpmath>=0.19 in /Users/doryding/myvenv/lib/python3.8/site-packages (from sympy->torch) (1.3.0)\r\n",
      "\u001B[33mWARNING: You are using pip version 22.0.3; however, version 23.2 is available.\r\n",
      "You should consider upgrading via the '/Users/doryding/myvenv/bin/python3 -m pip install --upgrade pip' command.\u001B[0m\u001B[33m\r\n",
      "\u001B[0m"
     ]
    }
   ],
   "source": [
    "!pip install numpy pandas transformers torch"
   ]
  },
  {
   "cell_type": "code",
   "execution_count": 6,
   "outputs": [],
   "source": [
    "import pandas as pd\n",
    "import numpy as np"
   ],
   "metadata": {
    "collapsed": false,
    "ExecuteTime": {
     "start_time": "2023-07-21T15:27:29.490911Z",
     "end_time": "2023-07-21T15:27:29.493302Z"
    }
   }
  },
  {
   "cell_type": "code",
   "execution_count": 7,
   "outputs": [
    {
     "name": "stdout",
     "output_type": "stream",
     "text": [
      "     989292962323615744|2018-04-25|23:59:57|Eastern Standard Time|whosalli|The lack of this understanding is a small but significant part of what causes anxiety & depression to both feel so incredibly lonely. It's soooo easy to compare. It's so easy to invalidate ourselves because of that.|1|0|3|  \\\n",
      "0     989292959844663296|2018-04-25|23:59:56|Eastern...                                                                                                                                                                                                                                                     \n",
      "1     989292951716155392|2018-04-25|23:59:54|Eastern...                                                                                                                                                                                                                                                     \n",
      "2     989292873664393218|2018-04-25|23:59:35|Eastern...                                                                                                                                                                                                                                                     \n",
      "3     989292856119472128|2018-04-25|23:59:31|Eastern...                                                                                                                                                                                                                                                     \n",
      "4     989292843125616641|2018-04-25|23:59:28|Eastern...                                                                                                                                                                                                                                                     \n",
      "...                                                 ...                                                                                                                                                                                                                                                     \n",
      "3836  989036568781389830|2018-04-25|07:01:08|Eastern...                                                                                                                                                                                                                                                     \n",
      "3837  989036542898397185|2018-04-25|07:01:01|Eastern...                                                                                                                                                                                                                                                     \n",
      "3838  989036488162766848|2018-04-25|07:00:48|Eastern...                                                                                                                                                                                                                                                     \n",
      "3839  989036488158572544|2018-04-25|07:00:48|Eastern...                                                                                                                                                                                                                                                     \n",
      "3840  989036462271287297|2018-04-25|07:00:42|Eastern...                                                                                                                                                                                                                                                     \n",
      "\n",
      "                                             Unnamed: 1 Unnamed: 2 Unnamed: 3  \\\n",
      "0                                                   NaN        NaN        NaN   \n",
      "1                    i do dislike people though.|0|0|0|        NaN        NaN   \n",
      "2                                                   NaN        NaN        NaN   \n",
      "3      these rainouts are spinning my equilibrium ou...        NaN        NaN   \n",
      "4                                                   NaN        NaN        NaN   \n",
      "...                                                 ...        ...        ...   \n",
      "3836   or a persistent and nagging anxiety.|28|1200|...        NaN        NaN   \n",
      "3837   i'm done stressing over people that don't des...        NaN        NaN   \n",
      "3838                                                NaN        NaN        NaN   \n",
      "3839   Suicide #health https://cmun.it/4sjligk |0|0|...        NaN        NaN   \n",
      "3840                                                NaN        NaN        NaN   \n",
      "\n",
      "     Unnamed: 4 Unnamed: 5 Unnamed: 6 Unnamed: 7 Unnamed: 8 Unnamed: 9  ...  \\\n",
      "0           NaN        NaN        NaN        NaN        NaN        NaN  ...   \n",
      "1           NaN        NaN        NaN        NaN        NaN        NaN  ...   \n",
      "2           NaN        NaN        NaN        NaN        NaN        NaN  ...   \n",
      "3           NaN        NaN        NaN        NaN        NaN        NaN  ...   \n",
      "4           NaN        NaN        NaN        NaN        NaN        NaN  ...   \n",
      "...         ...        ...        ...        ...        ...        ...  ...   \n",
      "3836        NaN        NaN        NaN        NaN        NaN        NaN  ...   \n",
      "3837        NaN        NaN        NaN        NaN        NaN        NaN  ...   \n",
      "3838        NaN        NaN        NaN        NaN        NaN        NaN  ...   \n",
      "3839        NaN        NaN        NaN        NaN        NaN        NaN  ...   \n",
      "3840        NaN        NaN        NaN        NaN        NaN        NaN  ...   \n",
      "\n",
      "     Unnamed: 16 Unnamed: 17 Unnamed: 18 Unnamed: 19 Unnamed: 20 Unnamed: 21  \\\n",
      "0            NaN         NaN         NaN         NaN         NaN         NaN   \n",
      "1            NaN         NaN         NaN         NaN         NaN         NaN   \n",
      "2            NaN         NaN         NaN         NaN         NaN         NaN   \n",
      "3            NaN         NaN         NaN         NaN         NaN         NaN   \n",
      "4            NaN         NaN         NaN         NaN         NaN         NaN   \n",
      "...          ...         ...         ...         ...         ...         ...   \n",
      "3836         NaN         NaN         NaN         NaN         NaN         NaN   \n",
      "3837         NaN         NaN         NaN         NaN         NaN         NaN   \n",
      "3838         NaN         NaN         NaN         NaN         NaN         NaN   \n",
      "3839         NaN         NaN         NaN         NaN         NaN         NaN   \n",
      "3840         NaN         NaN         NaN         NaN         NaN         NaN   \n",
      "\n",
      "     Unnamed: 22 Unnamed: 23 Unnamed: 24 Unnamed: 25  \n",
      "0            NaN         NaN         NaN         NaN  \n",
      "1            NaN         NaN         NaN         NaN  \n",
      "2            NaN         NaN         NaN         NaN  \n",
      "3            NaN         NaN         NaN         NaN  \n",
      "4            NaN         NaN         NaN         NaN  \n",
      "...          ...         ...         ...         ...  \n",
      "3836         NaN         NaN         NaN         NaN  \n",
      "3837         NaN         NaN         NaN         NaN  \n",
      "3838         NaN         NaN         NaN         NaN  \n",
      "3839         NaN         NaN         NaN         NaN  \n",
      "3840         NaN         NaN         NaN         NaN  \n",
      "\n",
      "[3841 rows x 26 columns]\n"
     ]
    }
   ],
   "source": [
    "data = pd.read_csv(\"depressive_tweets_processed.csv\")\n",
    "print(data)"
   ],
   "metadata": {
    "collapsed": false,
    "ExecuteTime": {
     "start_time": "2023-07-21T15:27:29.494442Z",
     "end_time": "2023-07-21T15:27:29.525284Z"
    }
   }
  }
 ],
 "metadata": {
  "kernelspec": {
   "display_name": "Python 3",
   "language": "python",
   "name": "python3"
  },
  "language_info": {
   "codemirror_mode": {
    "name": "ipython",
    "version": 2
   },
   "file_extension": ".py",
   "mimetype": "text/x-python",
   "name": "python",
   "nbconvert_exporter": "python",
   "pygments_lexer": "ipython2",
   "version": "2.7.6"
  }
 },
 "nbformat": 4,
 "nbformat_minor": 0
}

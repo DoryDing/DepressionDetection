{
 "cells": [
  {
   "cell_type": "code",
   "execution_count": 10,
   "metadata": {
    "collapsed": true,
    "ExecuteTime": {
     "start_time": "2023-07-24T10:45:32.441010Z",
     "end_time": "2023-07-24T10:45:34.236435Z"
    }
   },
   "outputs": [
    {
     "name": "stdout",
     "output_type": "stream",
     "text": [
      "Requirement already satisfied: numpy in /Users/doryding/myvenv/lib/python3.8/site-packages (1.22.2)\r\n",
      "Requirement already satisfied: pandas in /Users/doryding/myvenv/lib/python3.8/site-packages (2.0.3)\r\n",
      "Requirement already satisfied: transformers in /Users/doryding/myvenv/lib/python3.8/site-packages (4.31.0)\r\n",
      "Requirement already satisfied: torch in /Users/doryding/myvenv/lib/python3.8/site-packages (2.0.1)\r\n",
      "Requirement already satisfied: pytz>=2020.1 in /Users/doryding/myvenv/lib/python3.8/site-packages (from pandas) (2023.3)\r\n",
      "Requirement already satisfied: tzdata>=2022.1 in /Users/doryding/myvenv/lib/python3.8/site-packages (from pandas) (2023.3)\r\n",
      "Requirement already satisfied: python-dateutil>=2.8.2 in /Users/doryding/myvenv/lib/python3.8/site-packages (from pandas) (2.8.2)\r\n",
      "Requirement already satisfied: filelock in /Users/doryding/myvenv/lib/python3.8/site-packages (from transformers) (3.12.2)\r\n",
      "Requirement already satisfied: packaging>=20.0 in /Users/doryding/myvenv/lib/python3.8/site-packages (from transformers) (21.3)\r\n",
      "Requirement already satisfied: regex!=2019.12.17 in /Users/doryding/myvenv/lib/python3.8/site-packages (from transformers) (2023.6.3)\r\n",
      "Requirement already satisfied: requests in /Users/doryding/myvenv/lib/python3.8/site-packages (from transformers) (2.27.1)\r\n",
      "Requirement already satisfied: tokenizers!=0.11.3,<0.14,>=0.11.1 in /Users/doryding/myvenv/lib/python3.8/site-packages (from transformers) (0.13.3)\r\n",
      "Requirement already satisfied: safetensors>=0.3.1 in /Users/doryding/myvenv/lib/python3.8/site-packages (from transformers) (0.3.1)\r\n",
      "Requirement already satisfied: tqdm>=4.27 in /Users/doryding/myvenv/lib/python3.8/site-packages (from transformers) (4.51.0)\r\n",
      "Requirement already satisfied: pyyaml>=5.1 in /Users/doryding/myvenv/lib/python3.8/site-packages (from transformers) (6.0.1)\r\n",
      "Requirement already satisfied: huggingface-hub<1.0,>=0.14.1 in /Users/doryding/myvenv/lib/python3.8/site-packages (from transformers) (0.16.4)\r\n",
      "Requirement already satisfied: networkx in /Users/doryding/myvenv/lib/python3.8/site-packages (from torch) (3.1)\r\n",
      "Requirement already satisfied: sympy in /Users/doryding/myvenv/lib/python3.8/site-packages (from torch) (1.12)\r\n",
      "Requirement already satisfied: typing-extensions in /Users/doryding/myvenv/lib/python3.8/site-packages (from torch) (4.7.1)\r\n",
      "Requirement already satisfied: jinja2 in /Users/doryding/myvenv/lib/python3.8/site-packages (from torch) (3.1.2)\r\n",
      "Requirement already satisfied: fsspec in /Users/doryding/myvenv/lib/python3.8/site-packages (from huggingface-hub<1.0,>=0.14.1->transformers) (2023.6.0)\r\n",
      "Requirement already satisfied: pyparsing!=3.0.5,>=2.0.2 in /Users/doryding/myvenv/lib/python3.8/site-packages (from packaging>=20.0->transformers) (3.0.7)\r\n",
      "Requirement already satisfied: six>=1.5 in /Users/doryding/myvenv/lib/python3.8/site-packages (from python-dateutil>=2.8.2->pandas) (1.16.0)\r\n",
      "Requirement already satisfied: MarkupSafe>=2.0 in /Users/doryding/myvenv/lib/python3.8/site-packages (from jinja2->torch) (2.1.1)\r\n",
      "Requirement already satisfied: charset-normalizer~=2.0.0 in /Users/doryding/myvenv/lib/python3.8/site-packages (from requests->transformers) (2.0.12)\r\n",
      "Requirement already satisfied: certifi>=2017.4.17 in /Users/doryding/myvenv/lib/python3.8/site-packages (from requests->transformers) (2021.10.8)\r\n",
      "Requirement already satisfied: idna<4,>=2.5 in /Users/doryding/myvenv/lib/python3.8/site-packages (from requests->transformers) (3.3)\r\n",
      "Requirement already satisfied: urllib3<1.27,>=1.21.1 in /Users/doryding/myvenv/lib/python3.8/site-packages (from requests->transformers) (1.26.9)\r\n",
      "Requirement already satisfied: mpmath>=0.19 in /Users/doryding/myvenv/lib/python3.8/site-packages (from sympy->torch) (1.3.0)\r\n",
      "\u001B[33mWARNING: You are using pip version 22.0.3; however, version 23.2 is available.\r\n",
      "You should consider upgrading via the '/Users/doryding/myvenv/bin/python3 -m pip install --upgrade pip' command.\u001B[0m\u001B[33m\r\n",
      "\u001B[0m"
     ]
    }
   ],
   "source": [
    "!pip install numpy pandas transformers torch"
   ]
  },
  {
   "cell_type": "code",
   "execution_count": 11,
   "outputs": [
    {
     "ename": "ModuleNotFoundError",
     "evalue": "No module named 'ftfy'",
     "output_type": "error",
     "traceback": [
      "\u001B[0;31m---------------------------------------------------------------------------\u001B[0m",
      "\u001B[0;31mModuleNotFoundError\u001B[0m                       Traceback (most recent call last)",
      "Input \u001B[0;32mIn [11]\u001B[0m, in \u001B[0;36m<cell line: 3>\u001B[0;34m()\u001B[0m\n\u001B[1;32m      1\u001B[0m \u001B[38;5;28;01mimport\u001B[39;00m \u001B[38;5;21;01mwarnings\u001B[39;00m\n\u001B[1;32m      2\u001B[0m warnings\u001B[38;5;241m.\u001B[39mfilterwarnings(\u001B[38;5;124m\"\u001B[39m\u001B[38;5;124mignore\u001B[39m\u001B[38;5;124m\"\u001B[39m)\n\u001B[0;32m----> 3\u001B[0m \u001B[38;5;28;01mimport\u001B[39;00m \u001B[38;5;21;01mftfy\u001B[39;00m\n\u001B[1;32m      4\u001B[0m \u001B[38;5;28;01mimport\u001B[39;00m \u001B[38;5;21;01mmatplotlib\u001B[39;00m\u001B[38;5;21;01m.\u001B[39;00m\u001B[38;5;21;01mpyplot\u001B[39;00m \u001B[38;5;28;01mas\u001B[39;00m \u001B[38;5;21;01mplt\u001B[39;00m\n\u001B[1;32m      5\u001B[0m \u001B[38;5;28;01mimport\u001B[39;00m \u001B[38;5;21;01mnltk\u001B[39;00m\n",
      "\u001B[0;31mModuleNotFoundError\u001B[0m: No module named 'ftfy'"
     ]
    }
   ],
   "source": [
    "import warnings\n",
    "warnings.filterwarnings(\"ignore\")\n",
    "import ftfy\n",
    "import matplotlib.pyplot as plt\n",
    "import nltk\n",
    "import numpy as np\n",
    "import pandas as pd\n",
    "import re\n",
    "\n",
    "from math import exp\n",
    "from numpy import sign\n",
    "\n",
    "from sklearn.metrics import  classification_report, confusion_matrix, accuracy_score\n",
    "from gensim.models import KeyedVectors\n",
    "from nltk.corpus import stopwords\n",
    "from nltk import PorterStemmer\n",
    "\n",
    "from keras.models import Model, Sequential\n",
    "from keras.callbacks import EarlyStopping, ModelCheckpoint\n",
    "from keras.layers import Conv1D, Dense, Input, LSTM, Embedding, Dropout, Activation, MaxPooling1D\n",
    "from keras.preprocessing.text import Tokenizer\n",
    "from keras.preprocessing.sequence import pad_sequences\n",
    "from keras.utils import plot_model"
   ],
   "metadata": {
    "collapsed": false,
    "ExecuteTime": {
     "start_time": "2023-07-21T15:27:29.490911Z",
     "end_time": "2023-07-21T15:27:29.493302Z"
    }
   }
  },
  {
   "cell_type": "code",
   "execution_count": null,
   "outputs": [],
   "source": [],
   "metadata": {
    "collapsed": false,
    "ExecuteTime": {
     "start_time": "2023-07-21T15:27:29.494442Z",
     "end_time": "2023-07-21T15:27:29.525284Z"
    }
   }
  },
  {
   "cell_type": "markdown",
   "source": [
    "### Clean Data"
   ],
   "metadata": {
    "collapsed": false
   }
  },
  {
   "cell_type": "code",
   "execution_count": null,
   "outputs": [],
   "source": [],
   "metadata": {
    "collapsed": false
   }
  },
  {
   "cell_type": "markdown",
   "source": [
    "###"
   ],
   "metadata": {
    "collapsed": false
   }
  }
 ],
 "metadata": {
  "kernelspec": {
   "display_name": "Python 3",
   "language": "python",
   "name": "python3"
  },
  "language_info": {
   "codemirror_mode": {
    "name": "ipython",
    "version": 2
   },
   "file_extension": ".py",
   "mimetype": "text/x-python",
   "name": "python",
   "nbconvert_exporter": "python",
   "pygments_lexer": "ipython2",
   "version": "2.7.6"
  }
 },
 "nbformat": 4,
 "nbformat_minor": 0
}

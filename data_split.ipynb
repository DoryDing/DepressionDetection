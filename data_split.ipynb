{
 "cells": [
  {
   "cell_type": "code",
   "execution_count": 22,
   "outputs": [],
   "source": [
    "import pandas as pd\n",
    "from sklearn.model_selection import train_test_split"
   ],
   "metadata": {
    "collapsed": false,
    "ExecuteTime": {
     "start_time": "2023-07-26T11:02:14.673172Z",
     "end_time": "2023-07-26T11:02:14.675416Z"
    }
   }
  },
  {
   "cell_type": "code",
   "execution_count": 23,
   "outputs": [],
   "source": [
    "data = pd.read_csv('depressive_test.csv')\n",
    "labels = data['label']\n",
    "inputs = data['text']"
   ],
   "metadata": {
    "collapsed": false,
    "ExecuteTime": {
     "start_time": "2023-07-26T11:02:14.678889Z",
     "end_time": "2023-07-26T11:02:14.693509Z"
    }
   }
  },
  {
   "cell_type": "code",
   "execution_count": 24,
   "outputs": [],
   "source": [
    "# Split the data into training and validation sets (80% training, 20% validation)\n",
    "train_inputs, val_inputs, train_labels, val_labels = train_test_split(inputs, labels, test_size=0.25, random_state=42)\n",
    "\n",
    "# Optionally, you can convert the split data into DataFrames for further processing\n",
    "train_data = pd.DataFrame({'label': train_labels, 'text': train_inputs})\n",
    "val_data = pd.DataFrame({'label': val_labels, 'text': val_inputs})\n",
    "\n",
    "# Save the training and validation data to separate files (if needed)\n",
    "train_data.to_csv('train_data.csv', index=False)\n",
    "val_data.to_csv('val_data.csv', index=False)"
   ],
   "metadata": {
    "collapsed": false,
    "ExecuteTime": {
     "start_time": "2023-07-26T11:02:14.695529Z",
     "end_time": "2023-07-26T11:02:14.718332Z"
    }
   }
  }
 ],
 "metadata": {
  "kernelspec": {
   "display_name": "Python 3",
   "language": "python",
   "name": "python3"
  },
  "language_info": {
   "codemirror_mode": {
    "name": "ipython",
    "version": 2
   },
   "file_extension": ".py",
   "mimetype": "text/x-python",
   "name": "python",
   "nbconvert_exporter": "python",
   "pygments_lexer": "ipython2",
   "version": "2.7.6"
  }
 },
 "nbformat": 4,
 "nbformat_minor": 0
}
